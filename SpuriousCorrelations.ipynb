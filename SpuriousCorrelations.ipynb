{
 "cells": [
  {
   "cell_type": "code",
   "execution_count": 23,
   "metadata": {},
   "outputs": [],
   "source": [
    "import torch \n",
    "\n",
    "device = torch.device(\"cpu\")"
   ]
  },
  {
   "cell_type": "code",
   "execution_count": 24,
   "metadata": {},
   "outputs": [
    {
     "name": "stderr",
     "output_type": "stream",
     "text": [
      "100%|██████████| 48004/48004 [00:07<00:00, 6817.83it/s]\n",
      "100%|██████████| 10000/10000 [00:01<00:00, 6904.47it/s]\n"
     ]
    }
   ],
   "source": [
    "from spuco.datasets import SpuCoMNIST, SpuriousFeatureDifficulty\n",
    "\n",
    "classes = [[0, 1], [2, 3], [4, 5], [6, 7], [8, 9]]\n",
    "difficulty = SpuriousFeatureDifficulty.MAGNITUDE_LARGE\n",
    "\n",
    "trainset = SpuCoMNIST(\n",
    "    root=\"../data/mnist/\",\n",
    "    spurious_feature_difficulty=difficulty,\n",
    "    spurious_correlation_strength=0.995,\n",
    "    classes=classes,\n",
    "    split=\"train\"\n",
    ")\n",
    "trainset.initialize()\n",
    "\n",
    "testset = SpuCoMNIST(\n",
    "    root=\"../data/mnist/\",\n",
    "    spurious_feature_difficulty=difficulty,\n",
    "    classes=classes,\n",
    "    split=\"test\"\n",
    ")\n",
    "testset.initialize()"
   ]
  },
  {
   "cell_type": "code",
   "execution_count": 25,
   "metadata": {},
   "outputs": [
    {
     "name": "stderr",
     "output_type": "stream",
     "text": [
      "Epoch 0:   0%|          | 0/751 [00:00<?, ?batch/s]"
     ]
    },
    {
     "name": "stderr",
     "output_type": "stream",
     "text": [
      "Epoch 0: 100%|██████████| 751/751 [00:11<00:00, 67.98batch/s, accuracy=100.0%, loss=0.00642] \n"
     ]
    }
   ],
   "source": [
    "from spuco.models import model_factory \n",
    "from spuco.utils import Trainer\n",
    "from torch.optim import SGD\n",
    "\n",
    "model = model_factory(\"lenet\", trainset[0][0].shape, trainset.num_classes).to(device)\n",
    "trainer = Trainer(\n",
    "    trainset=trainset,\n",
    "    model=model,\n",
    "    batch_size=64,\n",
    "    optimizer=SGD(model.parameters(), lr=1e-3, weight_decay=5e-4, momentum=0.9, nesterov=True),\n",
    "    device=device,\n",
    "    verbose=True\n",
    ")\n",
    "\n",
    "trainer.train(1)"
   ]
  },
  {
   "cell_type": "code",
   "execution_count": 26,
   "metadata": {},
   "outputs": [
    {
     "name": "stderr",
     "output_type": "stream",
     "text": [
      "Evaluating group-wise accuracy:   4%|▍         | 1/25 [00:00<00:03,  6.56it/s]"
     ]
    },
    {
     "name": "stdout",
     "output_type": "stream",
     "text": [
      "Group (0, 0) Accuracy: 100.0\n",
      "Group (0, 1) Accuracy: 0.0\n"
     ]
    },
    {
     "name": "stderr",
     "output_type": "stream",
     "text": [
      "Evaluating group-wise accuracy:  20%|██        | 5/25 [00:00<00:01, 10.16it/s]"
     ]
    },
    {
     "name": "stdout",
     "output_type": "stream",
     "text": [
      "Group (0, 2) Accuracy: 0.0\n",
      "Group (0, 3) Accuracy: 0.0\n",
      "Group (0, 4) Accuracy: 0.0\n"
     ]
    },
    {
     "name": "stderr",
     "output_type": "stream",
     "text": [
      "Evaluating group-wise accuracy:  28%|██▊       | 7/25 [00:00<00:01,  9.28it/s]"
     ]
    },
    {
     "name": "stdout",
     "output_type": "stream",
     "text": [
      "Group (1, 0) Accuracy: 0.0\n",
      "Group (1, 1) Accuracy: 100.0\n",
      "Group (1, 2) Accuracy: 0.0\n"
     ]
    },
    {
     "name": "stderr",
     "output_type": "stream",
     "text": [
      "Evaluating group-wise accuracy:  40%|████      | 10/25 [00:00<00:01, 11.98it/s]"
     ]
    },
    {
     "name": "stdout",
     "output_type": "stream",
     "text": [
      "Group (1, 3) Accuracy: 0.0\n",
      "Group (1, 4) Accuracy: 0.0\n",
      "Group (2, 0) Accuracy: 0.0\n"
     ]
    },
    {
     "name": "stderr",
     "output_type": "stream",
     "text": [
      "Evaluating group-wise accuracy:  60%|██████    | 15/25 [00:01<00:00, 14.36it/s]"
     ]
    },
    {
     "name": "stdout",
     "output_type": "stream",
     "text": [
      "Group (2, 1) Accuracy: 0.0\n",
      "Group (2, 2) Accuracy: 100.0\n",
      "Group (2, 3) Accuracy: 0.0\n",
      "Group (2, 4) Accuracy: 0.0\n",
      "Group (3, 0) Accuracy: 0.0\n"
     ]
    },
    {
     "name": "stderr",
     "output_type": "stream",
     "text": [
      "Evaluating group-wise accuracy:  76%|███████▌  | 19/25 [00:01<00:00, 13.27it/s]"
     ]
    },
    {
     "name": "stdout",
     "output_type": "stream",
     "text": [
      "Group (3, 1) Accuracy: 0.0\n",
      "Group (3, 2) Accuracy: 0.0\n",
      "Group (3, 3) Accuracy: 100.0\n"
     ]
    },
    {
     "name": "stderr",
     "output_type": "stream",
     "text": [
      "Evaluating group-wise accuracy:  88%|████████▊ | 22/25 [00:01<00:00, 14.28it/s]"
     ]
    },
    {
     "name": "stdout",
     "output_type": "stream",
     "text": [
      "Group (3, 4) Accuracy: 0.0\n",
      "Group (4, 0) Accuracy: 0.0\n",
      "Group (4, 1) Accuracy: 0.0\n"
     ]
    },
    {
     "name": "stderr",
     "output_type": "stream",
     "text": [
      "Evaluating group-wise accuracy: 100%|██████████| 25/25 [00:02<00:00, 12.41it/s]"
     ]
    },
    {
     "name": "stdout",
     "output_type": "stream",
     "text": [
      "Group (4, 2) Accuracy: 0.0\n",
      "Group (4, 3) Accuracy: 0.0\n",
      "Group (4, 4) Accuracy: 100.0\n"
     ]
    },
    {
     "name": "stderr",
     "output_type": "stream",
     "text": [
      "\n"
     ]
    },
    {
     "data": {
      "text/plain": [
       "{(0, 0): 100.0,\n",
       " (0, 1): 0.0,\n",
       " (0, 2): 0.0,\n",
       " (0, 3): 0.0,\n",
       " (0, 4): 0.0,\n",
       " (1, 0): 0.0,\n",
       " (1, 1): 100.0,\n",
       " (1, 2): 0.0,\n",
       " (1, 3): 0.0,\n",
       " (1, 4): 0.0,\n",
       " (2, 0): 0.0,\n",
       " (2, 1): 0.0,\n",
       " (2, 2): 100.0,\n",
       " (2, 3): 0.0,\n",
       " (2, 4): 0.0,\n",
       " (3, 0): 0.0,\n",
       " (3, 1): 0.0,\n",
       " (3, 2): 0.0,\n",
       " (3, 3): 100.0,\n",
       " (3, 4): 0.0,\n",
       " (4, 0): 0.0,\n",
       " (4, 1): 0.0,\n",
       " (4, 2): 0.0,\n",
       " (4, 3): 0.0,\n",
       " (4, 4): 100.0}"
      ]
     },
     "execution_count": 26,
     "metadata": {},
     "output_type": "execute_result"
    }
   ],
   "source": [
    "from spuco.evaluate import Evaluator \n",
    "\n",
    "evaluator = Evaluator(\n",
    "    testset=testset,\n",
    "    group_partition=testset.group_partition,\n",
    "    group_weights=trainset.group_weights,\n",
    "    batch_size=64,\n",
    "    model=model,\n",
    "    device=device,\n",
    "    verbose=True\n",
    ")\n",
    "evaluator.evaluate()"
   ]
  },
  {
   "cell_type": "code",
   "execution_count": 27,
   "metadata": {},
   "outputs": [
    {
     "data": {
      "text/plain": [
       "99.49379218398467"
      ]
     },
     "execution_count": 27,
     "metadata": {},
     "output_type": "execute_result"
    }
   ],
   "source": [
    "evaluator.average_accuracy"
   ]
  },
  {
   "cell_type": "code",
   "execution_count": 28,
   "metadata": {},
   "outputs": [
    {
     "data": {
      "text/plain": [
       "100.0"
      ]
     },
     "execution_count": 28,
     "metadata": {},
     "output_type": "execute_result"
    }
   ],
   "source": [
    "evaluator.evaluate_spurious_attribute_prediction()"
   ]
  },
  {
   "cell_type": "code",
   "execution_count": 29,
   "metadata": {},
   "outputs": [
    {
     "name": "stderr",
     "output_type": "stream",
     "text": [
      "Getting Trainset Outputs: 100%|██████████| 751/751 [00:04<00:00, 174.07batch/s]\n",
      "Clustering class-wise: 100%|██████████| 5/5 [00:00<00:00, 19.58it/s]\n"
     ]
    }
   ],
   "source": [
    "from spuco.group_inference import Cluster, ClusterAlg\n",
    "\n",
    "logits = trainer.get_trainset_outputs()\n",
    "cluster = Cluster(\n",
    "    Z=logits,\n",
    "    class_labels=trainset.labels,\n",
    "    cluster_alg=ClusterAlg.KMEANS,\n",
    "    num_clusters=2,\n",
    "    device=device,\n",
    "    verbose=True\n",
    ")\n",
    "group_partition = cluster.infer_groups()"
   ]
  },
  {
   "cell_type": "code",
   "execution_count": 30,
   "metadata": {},
   "outputs": [
    {
     "name": "stderr",
     "output_type": "stream",
     "text": [
      "Evaluating group-wise accuracy:  10%|█         | 1/10 [00:00<00:05,  1.76it/s]"
     ]
    },
    {
     "name": "stdout",
     "output_type": "stream",
     "text": [
      "Group (0, 0) Accuracy: 99.9843137254902\n"
     ]
    },
    {
     "name": "stderr",
     "output_type": "stream",
     "text": [
      "Evaluating group-wise accuracy:  20%|██        | 2/10 [00:00<00:03,  2.33it/s]"
     ]
    },
    {
     "name": "stdout",
     "output_type": "stream",
     "text": [
      "Group (0, 1) Accuracy: 98.66950505588079\n"
     ]
    },
    {
     "name": "stderr",
     "output_type": "stream",
     "text": [
      "Evaluating group-wise accuracy:  30%|███       | 3/10 [00:01<00:04,  1.63it/s]"
     ]
    },
    {
     "name": "stdout",
     "output_type": "stream",
     "text": [
      "Group (1, 0) Accuracy: 99.8132973757909\n",
      "Group (1, 1) Accuracy: 0.0\n"
     ]
    },
    {
     "name": "stderr",
     "output_type": "stream",
     "text": [
      "Evaluating group-wise accuracy:  50%|█████     | 5/10 [00:02<00:01,  2.61it/s]"
     ]
    },
    {
     "name": "stdout",
     "output_type": "stream",
     "text": [
      "Group (2, 0) Accuracy: 99.61290322580645\n"
     ]
    },
    {
     "name": "stderr",
     "output_type": "stream",
     "text": [
      "Evaluating group-wise accuracy:  60%|██████    | 6/10 [00:02<00:01,  2.61it/s]"
     ]
    },
    {
     "name": "stdout",
     "output_type": "stream",
     "text": [
      "Group (2, 1) Accuracy: 99.35794542536115\n"
     ]
    },
    {
     "name": "stderr",
     "output_type": "stream",
     "text": [
      "Evaluating group-wise accuracy:  70%|███████   | 7/10 [00:03<00:01,  1.74it/s]"
     ]
    },
    {
     "name": "stdout",
     "output_type": "stream",
     "text": [
      "Group (3, 0) Accuracy: 99.7839283876942\n",
      "Group (3, 1) Accuracy: 0.0\n"
     ]
    },
    {
     "name": "stderr",
     "output_type": "stream",
     "text": [
      "Evaluating group-wise accuracy: 100%|██████████| 10/10 [00:04<00:00,  2.23it/s]"
     ]
    },
    {
     "name": "stdout",
     "output_type": "stream",
     "text": [
      "Group (4, 0) Accuracy: 99.89365096245879\n",
      "Group (4, 1) Accuracy: 0.0\n"
     ]
    },
    {
     "name": "stderr",
     "output_type": "stream",
     "text": [
      "\n"
     ]
    },
    {
     "data": {
      "text/plain": [
       "{(0, 0): 99.9843137254902,\n",
       " (0, 1): 98.66950505588079,\n",
       " (1, 0): 99.8132973757909,\n",
       " (1, 1): 0.0,\n",
       " (2, 0): 99.61290322580645,\n",
       " (2, 1): 99.35794542536115,\n",
       " (3, 0): 99.7839283876942,\n",
       " (3, 1): 0.0,\n",
       " (4, 0): 99.89365096245879,\n",
       " (4, 1): 0.0}"
      ]
     },
     "execution_count": 30,
     "metadata": {},
     "output_type": "execute_result"
    }
   ],
   "source": [
    "evaluator = Evaluator(\n",
    "    testset=trainset,\n",
    "    group_partition=group_partition,\n",
    "    group_weights=trainset.group_weights,\n",
    "    batch_size=64,\n",
    "    model=model,\n",
    "    device=device,\n",
    "    verbose=True\n",
    ")\n",
    "evaluator.evaluate()"
   ]
  },
  {
   "cell_type": "code",
   "execution_count": 31,
   "metadata": {},
   "outputs": [
    {
     "name": "stderr",
     "output_type": "stream",
     "text": [
      "Epoch 0: 100%|██████████| 751/751 [00:12<00:00, 58.89batch/s, accuracy=75.0%, loss=0.279]   \n",
      "Epoch 1: 100%|██████████| 751/751 [00:11<00:00, 67.05batch/s, accuracy=75.0%, loss=0.214]   \n",
      "Epoch 2: 100%|██████████| 751/751 [00:11<00:00, 64.53batch/s, accuracy=100.0%, loss=0.103]   \n",
      "Epoch 3: 100%|██████████| 751/751 [00:11<00:00, 66.66batch/s, accuracy=100.0%, loss=0.0124]  \n",
      "Epoch 4: 100%|██████████| 751/751 [00:10<00:00, 71.14batch/s, accuracy=100.0%, loss=0.0534]  \n"
     ]
    }
   ],
   "source": [
    "from spuco.robust_train import GroupBalanceBatchERM, ClassBalanceBatchERM\n",
    "\n",
    "group_balance_erm = GroupBalanceBatchERM(\n",
    "    model=model,\n",
    "    num_epochs=5,\n",
    "    trainset=trainset,\n",
    "    group_partition=group_partition,\n",
    "    batch_size=64,\n",
    "    optimizer=SGD(model.parameters(), lr=1e-3, weight_decay=5e-4, momentum=0.9, nesterov=True),\n",
    "    device=device,\n",
    "    verbose=True\n",
    ")\n",
    "group_balance_erm.train()"
   ]
  },
  {
   "cell_type": "code",
   "execution_count": 32,
   "metadata": {},
   "outputs": [
    {
     "name": "stderr",
     "output_type": "stream",
     "text": [
      "Evaluating group-wise accuracy:  24%|██▍       | 6/25 [00:00<00:00, 27.45it/s]"
     ]
    },
    {
     "name": "stdout",
     "output_type": "stream",
     "text": [
      "Group (0, 0) Accuracy: 99.76359338061465\n",
      "Group (0, 1) Accuracy: 17.494089834515368\n",
      "Group (0, 2) Accuracy: 0.0\n",
      "Group (0, 3) Accuracy: 0.2364066193853428\n",
      "Group (0, 4) Accuracy: 2.127659574468085\n",
      "Group (1, 0) Accuracy: 19.559902200489\n"
     ]
    },
    {
     "name": "stderr",
     "output_type": "stream",
     "text": [
      "Evaluating group-wise accuracy:  48%|████▊     | 12/25 [00:00<00:00, 27.64it/s]"
     ]
    },
    {
     "name": "stdout",
     "output_type": "stream",
     "text": [
      "Group (1, 1) Accuracy: 99.26650366748166\n",
      "Group (1, 2) Accuracy: 82.3529411764706\n",
      "Group (1, 3) Accuracy: 87.25490196078431\n",
      "Group (1, 4) Accuracy: 76.7156862745098\n",
      "Group (2, 0) Accuracy: 0.0\n",
      "Group (2, 1) Accuracy: 0.5333333333333333\n"
     ]
    },
    {
     "name": "stderr",
     "output_type": "stream",
     "text": [
      "Evaluating group-wise accuracy:  76%|███████▌  | 19/25 [00:00<00:00, 29.07it/s]"
     ]
    },
    {
     "name": "stdout",
     "output_type": "stream",
     "text": [
      "Group (2, 2) Accuracy: 97.06666666666666\n",
      "Group (2, 3) Accuracy: 1.8666666666666667\n",
      "Group (2, 4) Accuracy: 0.0\n",
      "Group (3, 0) Accuracy: 66.58291457286433\n",
      "Group (3, 1) Accuracy: 27.455919395465994\n",
      "Group (3, 2) Accuracy: 1.7632241813602014\n",
      "Group (3, 3) Accuracy: 98.48866498740554\n"
     ]
    },
    {
     "name": "stderr",
     "output_type": "stream",
     "text": [
      "Evaluating group-wise accuracy: 100%|██████████| 25/25 [00:00<00:00, 28.55it/s]"
     ]
    },
    {
     "name": "stdout",
     "output_type": "stream",
     "text": [
      "Group (3, 4) Accuracy: 0.7556675062972292\n",
      "Group (4, 0) Accuracy: 64.23173803526448\n",
      "Group (4, 1) Accuracy: 66.49874055415617\n",
      "Group (4, 2) Accuracy: 57.68261964735516\n",
      "Group (4, 3) Accuracy: 1.0101010101010102\n",
      "Group (4, 4) Accuracy: 94.6969696969697\n"
     ]
    },
    {
     "name": "stderr",
     "output_type": "stream",
     "text": [
      "\n"
     ]
    },
    {
     "data": {
      "text/plain": [
       "{(0, 0): 99.76359338061465,\n",
       " (0, 1): 17.494089834515368,\n",
       " (0, 2): 0.0,\n",
       " (0, 3): 0.2364066193853428,\n",
       " (0, 4): 2.127659574468085,\n",
       " (1, 0): 19.559902200489,\n",
       " (1, 1): 99.26650366748166,\n",
       " (1, 2): 82.3529411764706,\n",
       " (1, 3): 87.25490196078431,\n",
       " (1, 4): 76.7156862745098,\n",
       " (2, 0): 0.0,\n",
       " (2, 1): 0.5333333333333333,\n",
       " (2, 2): 97.06666666666666,\n",
       " (2, 3): 1.8666666666666667,\n",
       " (2, 4): 0.0,\n",
       " (3, 0): 66.58291457286433,\n",
       " (3, 1): 27.455919395465994,\n",
       " (3, 2): 1.7632241813602014,\n",
       " (3, 3): 98.48866498740554,\n",
       " (3, 4): 0.7556675062972292,\n",
       " (4, 0): 64.23173803526448,\n",
       " (4, 1): 66.49874055415617,\n",
       " (4, 2): 57.68261964735516,\n",
       " (4, 3): 1.0101010101010102,\n",
       " (4, 4): 94.6969696969697}"
      ]
     },
     "execution_count": 32,
     "metadata": {},
     "output_type": "execute_result"
    }
   ],
   "source": [
    "evaluator = Evaluator(\n",
    "    testset=testset,\n",
    "    group_partition=testset.group_partition,\n",
    "    group_weights=trainset.group_weights,\n",
    "    batch_size=64,\n",
    "    model=model,\n",
    "    device=device,\n",
    "    verbose=True\n",
    ")\n",
    "evaluator.evaluate()"
   ]
  },
  {
   "cell_type": "code",
   "execution_count": 33,
   "metadata": {},
   "outputs": [
    {
     "data": {
      "text/plain": [
       "97.55321861168294"
      ]
     },
     "execution_count": 33,
     "metadata": {},
     "output_type": "execute_result"
    }
   ],
   "source": [
    "evaluator.average_accuracy"
   ]
  },
  {
   "cell_type": "code",
   "execution_count": 34,
   "metadata": {},
   "outputs": [
    {
     "data": {
      "text/plain": [
       "59.13"
      ]
     },
     "execution_count": 34,
     "metadata": {},
     "output_type": "execute_result"
    }
   ],
   "source": [
    "evaluator.evaluate_spurious_attribute_prediction()"
   ]
  }
 ],
 "metadata": {
  "kernelspec": {
   "display_name": "clip",
   "language": "python",
   "name": "python3"
  },
  "language_info": {
   "codemirror_mode": {
    "name": "ipython",
    "version": 3
   },
   "file_extension": ".py",
   "mimetype": "text/x-python",
   "name": "python",
   "nbconvert_exporter": "python",
   "pygments_lexer": "ipython3",
   "version": "3.12.2"
  },
  "orig_nbformat": 4
 },
 "nbformat": 4,
 "nbformat_minor": 2
}
